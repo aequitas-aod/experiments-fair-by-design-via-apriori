{
 "cells": [
  {
   "cell_type": "code",
   "execution_count": 1,
   "metadata": {},
   "outputs": [
    {
     "ename": "ModuleNotFoundError",
     "evalue": "No module named 'apyori'",
     "output_type": "error",
     "traceback": [
      "\u001b[1;31m---------------------------------------------------------------------------\u001b[0m",
      "\u001b[1;31mModuleNotFoundError\u001b[0m                       Traceback (most recent call last)",
      "Cell \u001b[1;32mIn[1], line 1\u001b[0m\n\u001b[1;32m----> 1\u001b[0m \u001b[38;5;28;01mfrom\u001b[39;00m \u001b[38;5;21;01mfairness\u001b[39;00m\u001b[38;5;21;01m.\u001b[39;00m\u001b[38;5;21;01mmatching\u001b[39;00m \u001b[38;5;28;01mimport\u001b[39;00m conscious_fairness_through_unawareness\n\u001b[0;32m      2\u001b[0m \u001b[38;5;28;01mimport\u001b[39;00m \u001b[38;5;21;01mpandas\u001b[39;00m \u001b[38;5;28;01mas\u001b[39;00m \u001b[38;5;21;01mpd\u001b[39;00m\n\u001b[0;32m      3\u001b[0m \u001b[38;5;28;01mfrom\u001b[39;00m \u001b[38;5;21;01msklearn\u001b[39;00m\u001b[38;5;21;01m.\u001b[39;00m\u001b[38;5;21;01mmetrics\u001b[39;00m \u001b[38;5;28;01mimport\u001b[39;00m accuracy_score\n",
      "File \u001b[1;32m~\\Desktop\\experiments-fair-by-design-via-apriori\\fairness\\matching\\__init__.py:3\u001b[0m\n\u001b[0;32m      1\u001b[0m \u001b[38;5;28;01mfrom\u001b[39;00m \u001b[38;5;21;01mfairness\u001b[39;00m\u001b[38;5;21;01m.\u001b[39;00m\u001b[38;5;21;01mfairness_metric\u001b[39;00m\u001b[38;5;21;01m.\u001b[39;00m\u001b[38;5;21;01mdisparate_impact\u001b[39;00m \u001b[38;5;28;01mimport\u001b[39;00m DisparateImpact\n\u001b[0;32m      2\u001b[0m \u001b[38;5;28;01mfrom\u001b[39;00m \u001b[38;5;21;01mfairness\u001b[39;00m\u001b[38;5;21;01m.\u001b[39;00m\u001b[38;5;21;01mpre_processing\u001b[39;00m \u001b[38;5;28;01mimport\u001b[39;00m \u001b[38;5;241m*\u001b[39m\n\u001b[1;32m----> 3\u001b[0m \u001b[38;5;28;01mfrom\u001b[39;00m \u001b[38;5;21;01mfairness\u001b[39;00m\u001b[38;5;21;01m.\u001b[39;00m\u001b[38;5;21;01mproxy\u001b[39;00m\u001b[38;5;21;01m.\u001b[39;00m\u001b[38;5;21;01mproxy_processing\u001b[39;00m \u001b[38;5;28;01mimport\u001b[39;00m proxy_fixing\n\u001b[0;32m      6\u001b[0m \u001b[38;5;28;01mdef\u001b[39;00m \u001b[38;5;21mconscious_fairness_through_unawareness\u001b[39m(dataset: pd\u001b[38;5;241m.\u001b[39mDataFrame, protected_attributes: \u001b[38;5;28mlist\u001b[39m, output_column: \u001b[38;5;28mstr\u001b[39m, columns_to_drop: \u001b[38;5;28mlist\u001b[39m \u001b[38;5;241m=\u001b[39m [], confidence_threshold: \u001b[38;5;28mfloat\u001b[39m \u001b[38;5;241m=\u001b[39m \u001b[38;5;241m0.8\u001b[39m) \u001b[38;5;241m-\u001b[39m\u001b[38;5;241m>\u001b[39m pd\u001b[38;5;241m.\u001b[39mDataFrame:\n\u001b[0;32m      7\u001b[0m     \u001b[38;5;124;03m\"\"\"\u001b[39;00m\n\u001b[0;32m      8\u001b[0m \u001b[38;5;124;03m    This method compute the transformation of the dataset. It looks for proxy and, in case these ones are not founded it\u001b[39;00m\n\u001b[0;32m      9\u001b[0m \u001b[38;5;124;03m    removes the protected attributes.\u001b[39;00m\n\u001b[0;32m     10\u001b[0m \u001b[38;5;124;03m    \"\"\"\u001b[39;00m\n",
      "File \u001b[1;32m~\\Desktop\\experiments-fair-by-design-via-apriori\\fairness\\proxy\\proxy_processing\\__init__.py:2\u001b[0m\n\u001b[0;32m      1\u001b[0m \u001b[38;5;28;01mimport\u001b[39;00m \u001b[38;5;21;01mpandas\u001b[39;00m \u001b[38;5;28;01mas\u001b[39;00m \u001b[38;5;21;01mpd\u001b[39;00m\n\u001b[1;32m----> 2\u001b[0m \u001b[38;5;28;01mfrom\u001b[39;00m \u001b[38;5;21;01mfairness\u001b[39;00m\u001b[38;5;21;01m.\u001b[39;00m\u001b[38;5;21;01mproxy\u001b[39;00m\u001b[38;5;21;01m.\u001b[39;00m\u001b[38;5;21;01mproxy_detection\u001b[39;00m \u001b[38;5;28;01mimport\u001b[39;00m return_proxy_variables\n\u001b[0;32m      5\u001b[0m \u001b[38;5;28;01mdef\u001b[39;00m \u001b[38;5;21m_return_proxy_protected_attribute\u001b[39m(proxy_variables: pd\u001b[38;5;241m.\u001b[39mDataFrame,\n\u001b[0;32m      6\u001b[0m                                       protected_attributes: \u001b[38;5;28mlist\u001b[39m) \u001b[38;5;241m-\u001b[39m\u001b[38;5;241m>\u001b[39m pd\u001b[38;5;241m.\u001b[39mDataFrame:\n\u001b[0;32m      7\u001b[0m     \u001b[38;5;124;03m\"\"\"This method returns a dataframe containing the proxy variables for each sensitive attribute\u001b[39;00m\n\u001b[0;32m      8\u001b[0m \n\u001b[0;32m      9\u001b[0m \u001b[38;5;124;03m    Args:\u001b[39;00m\n\u001b[1;32m   (...)\u001b[0m\n\u001b[0;32m     14\u001b[0m \u001b[38;5;124;03m        pd.DataFrame: _description_\u001b[39;00m\n\u001b[0;32m     15\u001b[0m \u001b[38;5;124;03m    \"\"\"\u001b[39;00m\n",
      "File \u001b[1;32m~\\Desktop\\experiments-fair-by-design-via-apriori\\fairness\\proxy\\proxy_detection\\__init__.py:2\u001b[0m\n\u001b[0;32m      1\u001b[0m \u001b[38;5;28;01mimport\u001b[39;00m \u001b[38;5;21;01mpandas\u001b[39;00m \u001b[38;5;28;01mas\u001b[39;00m \u001b[38;5;21;01mpd\u001b[39;00m\n\u001b[1;32m----> 2\u001b[0m \u001b[38;5;28;01mfrom\u001b[39;00m \u001b[38;5;21;01mapyori\u001b[39;00m \u001b[38;5;28;01mimport\u001b[39;00m apriori\n\u001b[0;32m      5\u001b[0m \u001b[38;5;28;01mdef\u001b[39;00m \u001b[38;5;21mreturn_proxy_variables\u001b[39m(dataset: pd\u001b[38;5;241m.\u001b[39mDataFrame, confidence_threshold: \u001b[38;5;28mfloat\u001b[39m \u001b[38;5;241m=\u001b[39m \u001b[38;5;241m0.8\u001b[39m) \u001b[38;5;241m-\u001b[39m\u001b[38;5;241m>\u001b[39m pd\u001b[38;5;241m.\u001b[39mDataFrame:\n\u001b[0;32m      6\u001b[0m     \u001b[38;5;124;03m\"\"\"This method returns the proxy variables given a certain dataset and a confidence threshold\u001b[39;00m\n\u001b[0;32m      7\u001b[0m \u001b[38;5;124;03m    through the apriori algorithm for the association rule\u001b[39;00m\n\u001b[0;32m      8\u001b[0m \u001b[38;5;124;03m    Args:\u001b[39;00m\n\u001b[1;32m   (...)\u001b[0m\n\u001b[0;32m     13\u001b[0m \u001b[38;5;124;03m    Consequent, Confidence)\u001b[39;00m\n\u001b[0;32m     14\u001b[0m \u001b[38;5;124;03m    \"\"\"\u001b[39;00m\n",
      "\u001b[1;31mModuleNotFoundError\u001b[0m: No module named 'apyori'"
     ]
    }
   ],
   "source": [
    "from fairness.matching import conscious_fairness_through_unawareness\n",
    "import pandas as pd\n",
    "from sklearn.metrics import accuracy_score\n",
    "from sklearn.model_selection import train_test_split\n",
    "from sklearn.preprocessing import StandardScaler\n",
    "from sklearn.model_selection import GridSearchCV\n",
    "from sklearn.tree import DecisionTreeClassifier\n",
    "from sklearn.ensemble import RandomForestClassifier\n",
    "from sklearn.svm import SVC\n",
    "from sklearn.neighbors import KNeighborsClassifier"
   ]
  },
  {
   "cell_type": "code",
   "execution_count": null,
   "metadata": {},
   "outputs": [],
   "source": [
    "dataset = pd.read_csv('./dataset/adult/adult.data', sep=',')"
   ]
  },
  {
   "cell_type": "code",
   "execution_count": null,
   "metadata": {},
   "outputs": [],
   "source": [
    "print(\"Columns original dataset: \", len(dataset.columns))"
   ]
  },
  {
   "cell_type": "code",
   "execution_count": null,
   "metadata": {},
   "outputs": [],
   "source": [
    "columns_to_drop = ['education-num']\n",
    "protected_attributes = ['sex', 'race', 'relationship', 'native-country']\n",
    "output_column = 'income'"
   ]
  },
  {
   "cell_type": "code",
   "execution_count": null,
   "metadata": {},
   "outputs": [],
   "source": [
    "fair_dataset = conscious_fairness_through_unawareness(dataset, protected_attributes, output_column, columns_to_drop)"
   ]
  },
  {
   "cell_type": "code",
   "execution_count": null,
   "metadata": {},
   "outputs": [],
   "source": [
    "print(\"Columns fair dataset: \", len(fair_dataset.columns))"
   ]
  },
  {
   "cell_type": "code",
   "execution_count": null,
   "metadata": {},
   "outputs": [],
   "source": [
    "output_column = \"income\""
   ]
  },
  {
   "cell_type": "code",
   "execution_count": null,
   "metadata": {},
   "outputs": [],
   "source": [
    "X = fair_dataset.iloc[:,:len(fair_dataset.columns) - 2]\n",
    "y = fair_dataset.loc[:, output_column:]"
   ]
  },
  {
   "cell_type": "code",
   "execution_count": null,
   "metadata": {},
   "outputs": [],
   "source": [
    "X_train, X_test, y_train, y_test = train_test_split(X, y, test_size=0.2, random_state=42)"
   ]
  },
  {
   "cell_type": "code",
   "execution_count": null,
   "metadata": {},
   "outputs": [],
   "source": [
    "standard_scaler_train = StandardScaler()\n",
    "X_train = standard_scaler_train.fit_transform(X_train)\n",
    "\n",
    "standard_scaler_test = StandardScaler()\n",
    "X_test = standard_scaler_test.fit_transform(X_test)"
   ]
  },
  {
   "cell_type": "code",
   "execution_count": null,
   "metadata": {},
   "outputs": [],
   "source": [
    "svc_classifier = SVC()\n",
    "random_forest_classifier = RandomForestClassifier()\n",
    "decision_tree_classifier = DecisionTreeClassifier()\n",
    "knn_classifier = KNeighborsClassifier()\n",
    "\n",
    "models = [\n",
    "    svc_classifier,\n",
    "    random_forest_classifier,\n",
    "    decision_tree_classifier,\n",
    "    knn_classifier\n",
    "]\n",
    "\n",
    "svc_params = {\n",
    "    'kernel' : ['linear', 'poly', 'rbf', 'sigmoid'],\n",
    "    'degree' : range(1, 10),\n",
    "    'gamma' : ['scale', 'auto']\n",
    "}\n",
    "\n",
    "random_forest_params = {\n",
    "    'min_samples_leaf': [5, 7, 9, 11],\n",
    "    'n_estimators': [200, 500],\n",
    "    'max_depth' : [10, 20, 50, 80, 100, 150],\n",
    "    'criterion' :['gini', 'entropy']\n",
    "}\n",
    "\n",
    "decision_tree_params = {\n",
    "    'min_samples_leaf': [5, 7, 9, 11],\n",
    "    'max_depth' : [10, 20, 50, 80, 100, 150],\n",
    "    'criterion' :['gini', 'entropy']\n",
    "}\n",
    "\n",
    "knn_params = {\n",
    "    'algorithm' :['auto', 'ball_tree', 'kd_tree', 'brute'],\n",
    "    'leaf_size': range(20, 50),\n",
    "}\n",
    "\n",
    "\n",
    "model_params = [svc_params, random_forest_params, decision_tree_params, knn_params]"
   ]
  },
  {
   "cell_type": "code",
   "execution_count": null,
   "metadata": {},
   "outputs": [],
   "source": [
    "best_params = None\n",
    "max_accuracy = 0\n",
    "best_model = None\n",
    "\n",
    "for model_index in range(0, len(models)):\n",
    "    \n",
    "    grid_search = GridSearchCV(\n",
    "    estimator=models[model_index],\n",
    "    param_grid=model_params[model_index],\n",
    "    scoring='accuracy', \n",
    "    return_train_score=True,\n",
    "    cv=3\n",
    "    )\n",
    "\n",
    "    grid_search_classifier = grid_search.fit(X_train, y_train)\n",
    "    y_pred = grid_search_classifier.predict(X_test)\n",
    "    accuracy = accuracy_score(y_test, y_pred)\n",
    "    \n",
    "    if accuracy > max_accuracy:\n",
    "        best_params = grid_search_classifier.best_params_\n",
    "        best_model = models[model_index]\n",
    "\n",
    "\n"
   ]
  },
  {
   "cell_type": "code",
   "execution_count": null,
   "metadata": {},
   "outputs": [],
   "source": [
    "print(\"Best model: \", best_model)\n",
    "print(\"Best_params: \", best_params)\n",
    "print(\"Accuracy: \", max_accuracy)\n"
   ]
  },
  {
   "cell_type": "code",
   "execution_count": null,
   "metadata": {},
   "outputs": [],
   "source": [
    "#print(\"Accuracy score on Test set: \", accuracy_score(y_test, y_pred))\n",
    "#print(\"Accuracy score on Train set: \", accuracy_score(y_train, grid_search_classifier.predict(X_train)))\n",
    "#print(classification_report(y_test, y_pred))"
   ]
  },
  {
   "cell_type": "code",
   "execution_count": null,
   "metadata": {},
   "outputs": [],
   "source": [
    "#cm_display = ConfusionMatrixDisplay(confusion_matrix(y_test, y_pred), display_labels=[False, True])\n",
    "#cm_display.plot()\n",
    "#plt.show()"
   ]
  }
 ],
 "metadata": {
  "kernelspec": {
   "display_name": "Python 3 (ipykernel)",
   "language": "python",
   "name": "python3"
  },
  "language_info": {
   "codemirror_mode": {
    "name": "ipython",
    "version": 3
   },
   "file_extension": ".py",
   "mimetype": "text/x-python",
   "name": "python",
   "nbconvert_exporter": "python",
   "pygments_lexer": "ipython3",
   "version": "3.10.9"
  }
 },
 "nbformat": 4,
 "nbformat_minor": 2
}
