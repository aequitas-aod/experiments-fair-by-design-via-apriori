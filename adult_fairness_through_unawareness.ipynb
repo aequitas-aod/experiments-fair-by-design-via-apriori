{
 "cells": [
  {
   "cell_type": "code",
   "execution_count": 7,
   "metadata": {},
   "outputs": [],
   "source": [
    "import pandas as pd\n",
    "from sklearn.metrics import accuracy_score\n",
    "from sklearn.model_selection import train_test_split\n",
    "from sklearn.preprocessing import StandardScaler\n",
    "from fairness.pre_processing import categorical_to_numeric_converter\n",
    "from sklearn.model_selection import GridSearchCV\n",
    "from sklearn.ensemble import RandomForestClassifier\n",
    "from sklearn.tree import DecisionTreeClassifier\n",
    "from sklearn.svm import SVC\n",
    "from sklearn.neighbors import KNeighborsClassifier"
   ]
  },
  {
   "cell_type": "code",
   "execution_count": 8,
   "metadata": {},
   "outputs": [],
   "source": [
    "dataset = pd.read_csv('./dataset/adult/adult.data', sep=',')"
   ]
  },
  {
   "cell_type": "code",
   "execution_count": null,
   "metadata": {},
   "outputs": [],
   "source": [
    "print(\"Columns of the dataset before fairness through unawareness: \", len(dataset))"
   ]
  },
  {
   "cell_type": "code",
   "execution_count": 9,
   "metadata": {},
   "outputs": [],
   "source": [
    "dataset = categorical_to_numeric_converter(dataset)"
   ]
  },
  {
   "cell_type": "code",
   "execution_count": 10,
   "metadata": {},
   "outputs": [],
   "source": [
    "protected_attributes = ['sex', 'race', 'relationship', 'native-country']"
   ]
  },
  {
   "cell_type": "code",
   "execution_count": 11,
   "metadata": {},
   "outputs": [],
   "source": [
    "dataset.drop(columns=protected_attributes, inplace=True)\n",
    "output_column = \"income\""
   ]
  },
  {
   "cell_type": "code",
   "execution_count": null,
   "metadata": {},
   "outputs": [],
   "source": [
    "print(\"Columns of the dataset after fairness through unawareness: \", len(dataset))"
   ]
  },
  {
   "cell_type": "code",
   "execution_count": 12,
   "metadata": {},
   "outputs": [],
   "source": [
    "X = dataset.iloc[:,:len(dataset.columns) - 2]\n",
    "y = dataset.loc[:, output_column:]"
   ]
  },
  {
   "cell_type": "code",
   "execution_count": 13,
   "metadata": {},
   "outputs": [],
   "source": [
    "X_train, X_test, y_train, y_test = train_test_split(X, y, test_size=0.33, random_state=42)"
   ]
  },
  {
   "cell_type": "code",
   "execution_count": 14,
   "metadata": {},
   "outputs": [],
   "source": [
    "standard_scaler_train = StandardScaler()\n",
    "X_train = standard_scaler_train.fit_transform(X_train)\n",
    "\n",
    "standard_scaler_test = StandardScaler()\n",
    "X_test = standard_scaler_test.fit_transform(X_test)"
   ]
  },
  {
   "cell_type": "code",
   "execution_count": 16,
   "metadata": {},
   "outputs": [],
   "source": [
    "svc_classifier = SVC()\n",
    "random_forest_classifier = RandomForestClassifier()\n",
    "decision_tree_classifier = DecisionTreeClassifier()\n",
    "knn_classifier = KNeighborsClassifier()\n",
    "\n",
    "models = [\n",
    "    svc_classifier,\n",
    "    random_forest_classifier,\n",
    "    decision_tree_classifier,\n",
    "    knn_classifier\n",
    "]\n",
    "\n",
    "svc_params = {\n",
    "    'kernel' : {'linear', 'poly', 'rbf', 'sigmoid', 'precomputed'},\n",
    "    'degree' : range(1, 10),\n",
    "    'gamma' : {'scale', 'auto'}\n",
    "}\n",
    "\n",
    "random_forest_params = {\n",
    "    'min_samples_leaf': [5, 7, 9, 11],\n",
    "    'n_estimators': [200, 500],\n",
    "    'max_depth' : [10, 20, 50, 80, 100, 150],\n",
    "    'criterion' :['gini', 'entropy']\n",
    "}\n",
    "\n",
    "decision_tree_params = {\n",
    "    'min_samples_leaf': [5, 7, 9, 11],\n",
    "    'max_depth' : [10, 20, 50, 80, 100, 150],\n",
    "    'criterion' :['gini', 'entropy']\n",
    "}\n",
    "\n",
    "knn_params = {\n",
    "    'algorithm' : {'auto', 'ball_tree', 'kd_tree', 'brute'},\n",
    "    'leaf_size': range(20, 50),\n",
    "}\n",
    "\n",
    "\n",
    "model_params = [svc_params, random_forest_params, decision_tree_params, knn_params]"
   ]
  },
  {
   "cell_type": "code",
   "execution_count": 17,
   "metadata": {},
   "outputs": [],
   "source": [
    "best_params = None\n",
    "max_accuracy = 0\n",
    "best_model = None\n",
    "\n",
    "for model_index in range(0, len(models)):\n",
    "    \n",
    "    grid_search = GridSearchCV(\n",
    "    estimator=models[model_index],\n",
    "    param_grid=model_params[model_index],\n",
    "    scoring='accuracy', \n",
    "    return_train_score=True,\n",
    "    cv=3\n",
    "    )\n",
    "\n",
    "    grid_search_classifier = grid_search.fit(X_train, y_train)\n",
    "    y_pred = grid_search_classifier.predict(X_test)\n",
    "    accuracy = accuracy_score(y_test, y_pred)\n",
    "    \n",
    "    if accuracy > max_accuracy:\n",
    "        best_params = grid_search_classifier.best_params_\n",
    "        best_model = models[model_index]"
   ]
  },
  {
   "cell_type": "code",
   "execution_count": null,
   "metadata": {},
   "outputs": [],
   "source": [
    "print(\"Best model: \", best_model)\n",
    "print(\"Best_params: \", best_params)\n",
    "print(\"Accuracy: \", max_accuracy)"
   ]
  },
  {
   "cell_type": "code",
   "execution_count": 20,
   "metadata": {},
   "outputs": [
    {
     "name": "stdout",
     "output_type": "stream",
     "text": [
      "Accuracy score on Test set:  0.8403126744835288\n",
      "Accuracy score on Train set:  0.9280770112308044\n",
      "              precision    recall  f1-score   support\n",
      "\n",
      "           0       0.86      0.94      0.90      8196\n",
      "           1       0.73      0.51      0.60      2550\n",
      "\n",
      "    accuracy                           0.84     10746\n",
      "   macro avg       0.80      0.73      0.75     10746\n",
      "weighted avg       0.83      0.84      0.83     10746\n",
      "\n"
     ]
    }
   ],
   "source": [
    "#print(\"Accuracy score on Test set: \", accuracy_score(y_test, y_pred))\n",
    "#print(\"Accuracy score on Train set: \", accuracy_score(y_train, grid_search_classifier.predict(X_train)))\n",
    "#print(classification_report(y_test, y_pred))"
   ]
  },
  {
   "cell_type": "code",
   "execution_count": 21,
   "metadata": {},
   "outputs": [
    {
     "data": {
      "image/png": "[encoded data removed]",
      "text/plain": [
       "<Figure size 640x480 with 2 Axes>"
      ]
     },
     "metadata": {},
     "output_type": "display_data"
    }
   ],
   "source": [
    "#cm_display = ConfusionMatrixDisplay(confusion_matrix(y_test, y_pred), display_labels=[False, True])\n",
    "#cm_display.plot()\n",
    "#plt.show()"
   ]
  }
 ],
 "metadata": {
  "kernelspec": {
   "display_name": "Python 3",
   "language": "python",
   "name": "python3"
  },
  "language_info": {
   "codemirror_mode": {
    "name": "ipython",
    "version": 3
   },
   "file_extension": ".py",
   "mimetype": "text/x-python",
   "name": "python",
   "nbconvert_exporter": "python",
   "pygments_lexer": "ipython3",
   "version": "3.10.6"
  },
  "orig_nbformat": 4
 },
 "nbformat": 4,
 "nbformat_minor": 2
}
