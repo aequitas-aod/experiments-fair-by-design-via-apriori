{
 "cells": [
  {
   "cell_type": "code",
   "execution_count": 1,
   "metadata": {},
   "outputs": [],
   "source": [
    "from fairness.matching import compute\n",
    "from fairness.pre_processing import categorical_to_numeric_converter\n",
    "from fairness.pre_processing import remove_columns_from_dataset\n",
    "from fairness.pre_processing import fix_protected_attributes\n",
    "import pandas as pd"
   ]
  },
  {
   "cell_type": "code",
   "execution_count": 2,
   "metadata": {},
   "outputs": [],
   "source": [
    "dataset = pd.read_csv('./dataset/adult.data', sep=',')"
   ]
  },
  {
   "cell_type": "code",
   "execution_count": 3,
   "metadata": {},
   "outputs": [],
   "source": [
    "dataset = categorical_to_numeric_converter(dataset)"
   ]
  },
  {
   "cell_type": "code",
   "execution_count": 4,
   "metadata": {},
   "outputs": [
    {
     "data": {
      "text/plain": [
       "Index(['39', ' State-gov', ' 77516', ' Bachelors', ' 13', ' Never-married',\n",
       "       ' Adm-clerical', ' Not-in-family', ' White', ' Male', ' 2174', ' 0',\n",
       "       ' 40', ' United-States', ' <=50K'],\n",
       "      dtype='object')"
      ]
     },
     "execution_count": 4,
     "metadata": {},
     "output_type": "execute_result"
    }
   ],
   "source": [
    "dataset.columns"
   ]
  },
  {
   "cell_type": "code",
   "execution_count": 5,
   "metadata": {},
   "outputs": [],
   "source": [
    "columns_to_drop = ['39']\n",
    "dataset = remove_columns_from_dataset(dataset, columns_to_drop)"
   ]
  },
  {
   "cell_type": "code",
   "execution_count": 6,
   "metadata": {},
   "outputs": [],
   "source": [
    "protected_attributes = [' White', ' Male', ' Never-married']"
   ]
  },
  {
   "cell_type": "code",
   "execution_count": 7,
   "metadata": {},
   "outputs": [],
   "source": [
    "output_column = ' <=50K'"
   ]
  },
  {
   "cell_type": "code",
   "execution_count": 8,
   "metadata": {},
   "outputs": [
    {
     "name": "stdout",
     "output_type": "stream",
     "text": [
      "1  -->   30829\n",
      "2 --->  30829\n",
      "UP --->  0.0\n",
      "1  -->   1731\n",
      "2 --->  1731\n",
      "PP --->  1.0\n",
      "1  -->   30829\n",
      "2 --->  30829\n",
      "UP --->  0.0\n",
      "1  -->   1731\n",
      "2 --->  1731\n",
      "PP --->  1.0\n",
      "1  -->   30829\n",
      "2 --->  30829\n",
      "UP --->  0.0\n",
      "1  -->   1731\n",
      "2 --->  1731\n",
      "PP --->  1.0\n",
      "        Attribute  Disparate Impact\n",
      "0           White               0.0\n",
      "1            Male               0.0\n",
      "2   Never-married               0.0\n"
     ]
    },
    {
     "ename": "KeyboardInterrupt",
     "evalue": "",
     "output_type": "error",
     "traceback": [
      "\u001b[1;31m---------------------------------------------------------------------------\u001b[0m",
      "\u001b[1;31mKeyboardInterrupt\u001b[0m                         Traceback (most recent call last)",
      "Cell \u001b[1;32mIn[8], line 1\u001b[0m\n\u001b[1;32m----> 1\u001b[0m compute(dataset, protected_attributes, output_column)\n",
      "File \u001b[1;32mc:\\Users\\anton\\Desktop\\fair-by-design\\fairness\\matching\\__init__.py:9\u001b[0m, in \u001b[0;36mcompute\u001b[1;34m(dataset, protected_attributes, output_column, confidence_threshold)\u001b[0m\n\u001b[0;32m      7\u001b[0m dataset \u001b[39m=\u001b[39m fix_protected_attributes(dataset, protected_attributes)\n\u001b[0;32m      8\u001b[0m \u001b[39mwhile\u001b[39;00m DisparateImpact()\u001b[39m.\u001b[39mfairness_evaluation(dataset, protected_attributes, output_column) \u001b[39m==\u001b[39m \u001b[39m'\u001b[39m\u001b[39munfair\u001b[39m\u001b[39m'\u001b[39m:\n\u001b[1;32m----> 9\u001b[0m     dataset \u001b[39m=\u001b[39m proxy_fixing(dataset, protected_attributes)\n\u001b[0;32m     11\u001b[0m \u001b[39mreturn\u001b[39;00m dataset\n",
      "File \u001b[1;32mc:\\Users\\anton\\Desktop\\fair-by-design\\fairness\\proxy\\proxy_processing\\__init__.py:42\u001b[0m, in \u001b[0;36mproxy_fixing\u001b[1;34m(original_dataset, protected_attributes)\u001b[0m\n\u001b[0;32m     31\u001b[0m \u001b[39mdef\u001b[39;00m \u001b[39mproxy_fixing\u001b[39m(original_dataset: pd\u001b[39m.\u001b[39mDataFrame, protected_attributes: \u001b[39mlist\u001b[39m) \u001b[39m-\u001b[39m\u001b[39m>\u001b[39m pd\u001b[39m.\u001b[39mDataFrame:\n\u001b[0;32m     32\u001b[0m \u001b[39m    \u001b[39m\u001b[39m\"\"\"This method returns a dataset with proxy variables founded in the original dataset analyzed.\u001b[39;00m\n\u001b[0;32m     33\u001b[0m \u001b[39m    In case these proxies lead to unfairness the proxies are deleted\u001b[39;00m\n\u001b[0;32m     34\u001b[0m \n\u001b[1;32m   (...)\u001b[0m\n\u001b[0;32m     40\u001b[0m \u001b[39m        pd.DataFrame: returns the dataframe in which the proxies do not lead to fairness\u001b[39;00m\n\u001b[0;32m     41\u001b[0m \u001b[39m    \"\"\"\u001b[39;00m\n\u001b[1;32m---> 42\u001b[0m     proxy_variables \u001b[39m=\u001b[39m return_proxy_variables(original_dataset)\n\u001b[0;32m     43\u001b[0m     dataset \u001b[39m=\u001b[39m original_dataset\n\u001b[0;32m     44\u001b[0m     proxy_variables_for_sensitive_attributes \u001b[39m=\u001b[39m _return_proxy_protected_attribute(proxy_variables,\n\u001b[0;32m     45\u001b[0m                                                                                  protected_attributes)\n",
      "File \u001b[1;32mc:\\Users\\anton\\Desktop\\fair-by-design\\fairness\\proxy\\proxy_detection\\__init__.py:17\u001b[0m, in \u001b[0;36mreturn_proxy_variables\u001b[1;34m(dataset, confidence_threshold)\u001b[0m\n\u001b[0;32m     15\u001b[0m records \u001b[39m=\u001b[39m _return_apriori_dataset_format(dataset)\n\u001b[0;32m     16\u001b[0m association_rules \u001b[39m=\u001b[39m apriori(records, min_confidence\u001b[39m=\u001b[39mconfidence_threshold)\n\u001b[1;32m---> 17\u001b[0m association_results \u001b[39m=\u001b[39m \u001b[39mlist\u001b[39;49m(association_rules)\n\u001b[0;32m     18\u001b[0m \u001b[39mreturn\u001b[39;00m _return_apriori_dataframe(association_results)\n",
      "File \u001b[1;32m~\\AppData\\Local\\Packages\\PythonSoftwareFoundation.Python.3.10_qbz5n2kfra8p0\\LocalCache\\local-packages\\Python310\\site-packages\\apyori.py:287\u001b[0m, in \u001b[0;36mapriori\u001b[1;34m(transactions, **kwargs)\u001b[0m\n\u001b[0;32m    285\u001b[0m \u001b[39m# Calculate ordered stats.\u001b[39;00m\n\u001b[0;32m    286\u001b[0m \u001b[39mfor\u001b[39;00m support_record \u001b[39min\u001b[39;00m support_records:\n\u001b[1;32m--> 287\u001b[0m     ordered_statistics \u001b[39m=\u001b[39m \u001b[39mlist\u001b[39;49m(\n\u001b[0;32m    288\u001b[0m         _filter_ordered_statistics(\n\u001b[0;32m    289\u001b[0m             _gen_ordered_statistics(transaction_manager, support_record),\n\u001b[0;32m    290\u001b[0m             min_confidence\u001b[39m=\u001b[39;49mmin_confidence,\n\u001b[0;32m    291\u001b[0m             min_lift\u001b[39m=\u001b[39;49mmin_lift,\n\u001b[0;32m    292\u001b[0m         )\n\u001b[0;32m    293\u001b[0m     )\n\u001b[0;32m    294\u001b[0m     \u001b[39mif\u001b[39;00m \u001b[39mnot\u001b[39;00m ordered_statistics:\n\u001b[0;32m    295\u001b[0m         \u001b[39mcontinue\u001b[39;00m\n",
      "File \u001b[1;32m~\\AppData\\Local\\Packages\\PythonSoftwareFoundation.Python.3.10_qbz5n2kfra8p0\\LocalCache\\local-packages\\Python310\\site-packages\\apyori.py:237\u001b[0m, in \u001b[0;36mfilter_ordered_statistics\u001b[1;34m(ordered_statistics, **kwargs)\u001b[0m\n\u001b[0;32m    234\u001b[0m min_confidence \u001b[39m=\u001b[39m kwargs\u001b[39m.\u001b[39mget(\u001b[39m'\u001b[39m\u001b[39mmin_confidence\u001b[39m\u001b[39m'\u001b[39m, \u001b[39m0.0\u001b[39m)\n\u001b[0;32m    235\u001b[0m min_lift \u001b[39m=\u001b[39m kwargs\u001b[39m.\u001b[39mget(\u001b[39m'\u001b[39m\u001b[39mmin_lift\u001b[39m\u001b[39m'\u001b[39m, \u001b[39m0.0\u001b[39m)\n\u001b[1;32m--> 237\u001b[0m \u001b[39mfor\u001b[39;00m ordered_statistic \u001b[39min\u001b[39;00m ordered_statistics:\n\u001b[0;32m    238\u001b[0m     \u001b[39mif\u001b[39;00m ordered_statistic\u001b[39m.\u001b[39mconfidence \u001b[39m<\u001b[39m min_confidence:\n\u001b[0;32m    239\u001b[0m         \u001b[39mcontinue\u001b[39;00m\n",
      "File \u001b[1;32m~\\AppData\\Local\\Packages\\PythonSoftwareFoundation.Python.3.10_qbz5n2kfra8p0\\LocalCache\\local-packages\\Python310\\site-packages\\apyori.py:217\u001b[0m, in \u001b[0;36mgen_ordered_statistics\u001b[1;34m(transaction_manager, record)\u001b[0m\n\u001b[0;32m    214\u001b[0m items_base \u001b[39m=\u001b[39m \u001b[39mfrozenset\u001b[39m(combination_set)\n\u001b[0;32m    215\u001b[0m items_add \u001b[39m=\u001b[39m \u001b[39mfrozenset\u001b[39m(items\u001b[39m.\u001b[39mdifference(items_base))\n\u001b[0;32m    216\u001b[0m confidence \u001b[39m=\u001b[39m (\n\u001b[1;32m--> 217\u001b[0m     record\u001b[39m.\u001b[39msupport \u001b[39m/\u001b[39m transaction_manager\u001b[39m.\u001b[39;49mcalc_support(items_base))\n\u001b[0;32m    218\u001b[0m lift \u001b[39m=\u001b[39m confidence \u001b[39m/\u001b[39m transaction_manager\u001b[39m.\u001b[39mcalc_support(items_add)\n\u001b[0;32m    219\u001b[0m \u001b[39myield\u001b[39;00m OrderedStatistic(\n\u001b[0;32m    220\u001b[0m     \u001b[39mfrozenset\u001b[39m(items_base), \u001b[39mfrozenset\u001b[39m(items_add), confidence, lift)\n",
      "File \u001b[1;32m~\\AppData\\Local\\Packages\\PythonSoftwareFoundation.Python.3.10_qbz5n2kfra8p0\\LocalCache\\local-packages\\Python310\\site-packages\\apyori.py:88\u001b[0m, in \u001b[0;36mTransactionManager.calc_support\u001b[1;34m(self, items)\u001b[0m\n\u001b[0;32m     85\u001b[0m         sum_indexes \u001b[39m=\u001b[39m indexes\n\u001b[0;32m     86\u001b[0m     \u001b[39melse\u001b[39;00m:\n\u001b[0;32m     87\u001b[0m         \u001b[39m# Calculate the intersection on not the first time.\u001b[39;00m\n\u001b[1;32m---> 88\u001b[0m         sum_indexes \u001b[39m=\u001b[39m sum_indexes\u001b[39m.\u001b[39mintersection(indexes)\n\u001b[0;32m     90\u001b[0m \u001b[39m# Calculate and return the support.\u001b[39;00m\n\u001b[0;32m     91\u001b[0m \u001b[39mreturn\u001b[39;00m \u001b[39mfloat\u001b[39m(\u001b[39mlen\u001b[39m(sum_indexes)) \u001b[39m/\u001b[39m \u001b[39mself\u001b[39m\u001b[39m.\u001b[39m__num_transaction\n",
      "\u001b[1;31mKeyboardInterrupt\u001b[0m: "
     ]
    }
   ],
   "source": [
    "compute(dataset, protected_attributes, output_column)"
   ]
  }
 ],
 "metadata": {
  "kernelspec": {
   "display_name": "Python 3",
   "language": "python",
   "name": "python3"
  },
  "language_info": {
   "codemirror_mode": {
    "name": "ipython",
    "version": 3
   },
   "file_extension": ".py",
   "mimetype": "text/x-python",
   "name": "python",
   "nbconvert_exporter": "python",
   "pygments_lexer": "ipython3",
   "version": "3.10.11"
  },
  "orig_nbformat": 4
 },
 "nbformat": 4,
 "nbformat_minor": 2
}
