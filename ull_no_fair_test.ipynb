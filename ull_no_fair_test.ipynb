{
 "cells": [
  {
   "cell_type": "code",
   "execution_count": 1,
   "metadata": {},
   "outputs": [],
   "source": [
    "import pandas as pd\n",
    "from sklearn.naive_bayes import GaussianNB\n",
    "from sklearn.metrics import accuracy_score,confusion_matrix\n",
    "from sklearn.metrics import classification_report\n",
    "from sklearn.model_selection import train_test_split\n",
    "from sklearn.preprocessing import StandardScaler\n",
    "from fairness.pre_processing import categorical_to_numeric_converter\n",
    "from sklearn.metrics import ConfusionMatrixDisplay\n",
    "from sklearn.model_selection import GridSearchCV\n",
    "import matplotlib.pyplot as plt\n",
    "from sklearn.ensemble import RandomForestClassifier\n",
    "from sklearn.decomposition import PCA"
   ]
  },
  {
   "cell_type": "code",
   "execution_count": 2,
   "metadata": {},
   "outputs": [],
   "source": [
    "dataset = pd.read_csv('./dataset/ull/ULL_dataset.csv', sep=',')"
   ]
  },
  {
   "cell_type": "code",
   "execution_count": 3,
   "metadata": {},
   "outputs": [],
   "source": [
    "output_columns = ['score_MAT', 'level_MAT', 'score_LEN', 'level_LEN', 'score_ING', 'level_ING']"
   ]
  },
  {
   "cell_type": "code",
   "execution_count": null,
   "metadata": {},
   "outputs": [],
   "source": [
    "for output_column in output_columns:\n",
    "    X = dataset.loc[:, dataset.columns!=output_column]\n",
    "    y = dataset[output_column]\n",
    "    \n",
    "    X_train, X_test, y_train, y_test = train_test_split(X, y, test_size=0.33, random_state=42)\n",
    "    \n",
    "    standard_scaler_train = StandardScaler()\n",
    "    X_train = standard_scaler_train.fit_transform(X_train)\n",
    "\n",
    "    standard_scaler_test = StandardScaler()\n",
    "    X_test = standard_scaler_test.fit_transform(X_test)\n",
    "    \n",
    "    pca = PCA(n_components=0.85)\n",
    "    X_train = pca.fit_transform(X_train)\n",
    "    X_test = pca.transform(X_test)\n",
    "    \n",
    "    estimator = RandomForestClassifier()\n",
    "\n",
    "    parameters =  {\n",
    "        'min_samples_leaf': [5, 7, 9, 11],\n",
    "        'n_estimators': [200, 500],\n",
    "        'max_depth' : [10, 20, 50, 80, 100, 150],\n",
    "        'criterion' :['gini', 'entropy']\n",
    "    }\n",
    "    \n",
    "    grid_search = GridSearchCV(\n",
    "        estimator=estimator,\n",
    "        param_grid=parameters,\n",
    "        scoring='accuracy', \n",
    "        return_train_score=True,\n",
    "        cv=3\n",
    "    )\n",
    "    \n",
    "    grid_search_classifier = grid_search.fit(X_train, y_train)\n",
    "    \n",
    "    y_pred = grid_search_classifier.predict(X_test)\n",
    "    \n",
    "    print(\"OUTPUT COLUMN: \", output_column)\n",
    "    print(\"Accuracy score on Test set: \", accuracy_score(y_test, y_pred))\n",
    "    print(\"Accuracy score on Train set: \", accuracy_score(y_train, grid_search_classifier.predict(X_train)))\n",
    "    print(classification_report(y_test, y_pred))"
   ]
  }
 ],
 "metadata": {
  "kernelspec": {
   "display_name": "Python 3",
   "language": "python",
   "name": "python3"
  },
  "language_info": {
   "codemirror_mode": {
    "name": "ipython",
    "version": 3
   },
   "file_extension": ".py",
   "mimetype": "text/x-python",
   "name": "python",
   "nbconvert_exporter": "python",
   "pygments_lexer": "ipython3",
   "version": "3.10.6"
  },
  "orig_nbformat": 4
 },
 "nbformat": 4,
 "nbformat_minor": 2
}
