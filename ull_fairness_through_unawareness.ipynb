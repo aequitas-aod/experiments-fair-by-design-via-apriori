{
 "cells": [
  {
   "cell_type": "code",
   "execution_count": 1,
   "metadata": {},
   "outputs": [],
   "source": [
    "import pandas as pd\n",
    "from sklearn.metrics import accuracy_score\n",
    "from sklearn.model_selection import train_test_split\n",
    "from sklearn.preprocessing import StandardScaler\n",
    "from fairness.pre_processing import categorical_to_numeric_converter\n",
    "from sklearn.model_selection import GridSearchCV\n",
    "import numpy as np"
   ]
  },
  {
   "cell_type": "code",
   "execution_count": 2,
   "metadata": {},
   "outputs": [],
   "source": [
    "dataset = pd.read_csv('./dataset/ull/ULL_dataset.csv', sep=',')"
   ]
  },
  {
   "cell_type": "code",
   "execution_count": 3,
   "metadata": {},
   "outputs": [
    {
     "name": "stdout",
     "output_type": "stream",
     "text": [
      "Columns of the dataset before fairness through unawareness:  549\n"
     ]
    }
   ],
   "source": [
    "print(\"Columns of the dataset before fairness through unawareness: \", len(dataset.columns))"
   ]
  },
  {
   "cell_type": "code",
   "execution_count": 4,
   "metadata": {},
   "outputs": [],
   "source": [
    "dataset = categorical_to_numeric_converter(dataset)"
   ]
  },
  {
   "cell_type": "code",
   "execution_count": 5,
   "metadata": {},
   "outputs": [],
   "source": [
    "output_columns = ['level_mat', 'level_len', 'level_ing']"
   ]
  },
  {
   "cell_type": "code",
   "execution_count": 6,
   "metadata": {},
   "outputs": [],
   "source": [
    "protected_attributes = ['score_MAT', 'level_MAT', 'score_LEN', 'level_LEN', 'score_ING',\n",
    "       'level_ING', 'a1', 'a4', 'repeater', 'a24', 'a41', 'a42',\n",
    "       'country_iso_cnac', 'country_iso_nac', 'island', 'capital_island',\n",
    "       'public_private', 'f3a', 'f3b', 'mother_education',\n",
    "       'father_education', 'f4a', 'f4b', 'f5a', 'f5b', 'f5n', 'inmigrant',\n",
    "       'inmigrant2', 'inmigrant_second_gen', 'f11', 'books', 'f23',\n",
    "       'f24a', 'f24b', 'mother_occupation', 'father_occupation', 'f34',\n",
    "       'household_income_q', 'escs']"
   ]
  },
  {
   "cell_type": "code",
   "execution_count": 7,
   "metadata": {},
   "outputs": [],
   "source": [
    "from sklearn.ensemble import RandomForestClassifier\n",
    "from sklearn.tree import DecisionTreeClassifier\n",
    "from sklearn.neighbors import KNeighborsClassifier\n",
    "\n",
    "random_forest_classifier = RandomForestClassifier()\n",
    "decision_tree_classifier = DecisionTreeClassifier()\n",
    "knn_classifier = KNeighborsClassifier()\n",
    "\n",
    "models = [\n",
    "    random_forest_classifier,\n",
    "    decision_tree_classifier,\n",
    "    knn_classifier\n",
    "]\n",
    "\n",
    "random_forest_params = {\n",
    "    'min_samples_leaf': [5, 7, 9, 11],\n",
    "    'n_estimators': [200, 500],\n",
    "    'max_depth' : [10, 20, 50, 80, 100, 150],\n",
    "    'criterion' :['gini', 'entropy']\n",
    "}\n",
    "\n",
    "decision_tree_params = {\n",
    "    'min_samples_leaf': [5, 7, 9, 11],\n",
    "    'max_depth' : [10, 20, 50, 80, 100, 150],\n",
    "    'criterion' :['gini', 'entropy']\n",
    "}\n",
    "\n",
    "knn_params = {\n",
    "    'algorithm' : ['auto', 'ball_tree', 'kd_tree', 'brute'],\n",
    "    'leaf_size': range(20, 50),\n",
    "}\n",
    "\n",
    "\n",
    "model_params = [random_forest_params, decision_tree_params, knn_params]"
   ]
  },
  {
   "cell_type": "code",
   "execution_count": 8,
   "metadata": {},
   "outputs": [
    {
     "ename": "ValueError",
     "evalue": "list.remove(x): x not in list",
     "output_type": "error",
     "traceback": [
      "\u001b[1;31m---------------------------------------------------------------------------\u001b[0m",
      "\u001b[1;31mValueError\u001b[0m                                Traceback (most recent call last)",
      "Cell \u001b[1;32mIn[8], line 2\u001b[0m\n\u001b[0;32m      1\u001b[0m \u001b[39mfor\u001b[39;00m output_column \u001b[39min\u001b[39;00m output_columns:\n\u001b[1;32m----> 2\u001b[0m     final_protected_attributes \u001b[39m=\u001b[39m protected_attributes\u001b[39m.\u001b[39;49mremove(output_column)\n\u001b[0;32m      3\u001b[0m     dataset\u001b[39m.\u001b[39mdrop(columns\u001b[39m=\u001b[39mfinal_protected_attributes, inplace\u001b[39m=\u001b[39m\u001b[39mTrue\u001b[39;00m)\n\u001b[0;32m      4\u001b[0m     \u001b[39mprint\u001b[39m(\u001b[39m\"\u001b[39m\u001b[39mColumns of the dataset after fairness through unawareness: \u001b[39m\u001b[39m\"\u001b[39m, \u001b[39mlen\u001b[39m(dataset\u001b[39m.\u001b[39mcolumns))\n",
      "\u001b[1;31mValueError\u001b[0m: list.remove(x): x not in list"
     ]
    }
   ],
   "source": [
    "for output_column in output_columns:\n",
    "    final_protected_attributes =  []\n",
    "    if output_column in protected_attributes:\n",
    "        final_protected_attributes = protected_attributes.remove(output_column)\n",
    "    else:\n",
    "        final_protected_attributes = protected_attributes\n",
    "    dataset.drop(columns=final_protected_attributes, inplace=True)\n",
    "    print(\"Columns of the dataset after fairness through unawareness: \", len(dataset.columns))\n",
    "    \n",
    "    X = dataset.loc[:, dataset.columns!=output_column]\n",
    "    y = dataset[output_column]\n",
    "    y = np.ravel(y)\n",
    "\n",
    "    X_train, X_test, y_train, y_test = train_test_split(X, y, test_size=0.33, random_state=42)\n",
    "\n",
    "    standard_scaler_train = StandardScaler()\n",
    "    X_train = standard_scaler_train.fit_transform(X_train)\n",
    "\n",
    "    standard_scaler_test = StandardScaler()\n",
    "    X_test = standard_scaler_test.fit_transform(X_test)\n",
    "\n",
    "    best_params = None\n",
    "    max_accuracy = 0\n",
    "    best_model = None\n",
    "\n",
    "    for model_index in range(0, len(models)):\n",
    "        \n",
    "        grid_search = GridSearchCV(\n",
    "        estimator=models[model_index],\n",
    "        param_grid=model_params[model_index],\n",
    "        scoring='accuracy', \n",
    "        return_train_score=True,\n",
    "        cv=3\n",
    "        )\n",
    "\n",
    "        grid_search_classifier = grid_search.fit(X_train, y_train)\n",
    "        y_pred = grid_search_classifier.predict(X_test)\n",
    "        if accuracy_score(y_test, y_pred) > max_accuracy:\n",
    "            max_accuracy = accuracy_score(y_test, y_pred)\n",
    "            best_model = models[model_index]\n",
    "            best_params = model_params[model_index]\n",
    "    \n",
    "    print(\"OUTPUT COLUMN: \", output_column)\n",
    "    print(\"Best model: \", best_model)\n",
    "    print(\"Best_params: \", best_params)\n",
    "    print(\"Accuracy: \", max_accuracy)"
   ]
  }
 ],
 "metadata": {
  "kernelspec": {
   "display_name": "Python 3 (ipykernel)",
   "language": "python",
   "name": "python3"
  },
  "language_info": {
   "codemirror_mode": {
    "name": "ipython",
    "version": 3
   },
   "file_extension": ".py",
   "mimetype": "text/x-python",
   "name": "python",
   "nbconvert_exporter": "python",
   "pygments_lexer": "ipython3",
   "version": "3.10.11"
  }
 },
 "nbformat": 4,
 "nbformat_minor": 2
}
